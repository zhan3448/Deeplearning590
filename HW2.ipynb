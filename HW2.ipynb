{
  "nbformat": 4,
  "nbformat_minor": 0,
  "metadata": {
    "colab": {
      "name": "HW2.ipynb",
      "version": "0.3.2",
      "provenance": []
    },
    "kernelspec": {
      "name": "python3",
      "display_name": "Python 3"
    },
    "accelerator": "GPU"
  },
  "cells": [
    {
      "metadata": {
        "id": "6qlvJNYyZEps",
        "colab_type": "text"
      },
      "cell_type": "markdown",
      "source": [
        "# Assignment 2\n",
        "## Ye Zhang\n",
        "## Nov 25 2018"
      ]
    },
    {
      "metadata": {
        "id": "obHb3MUUZEpv",
        "colab_type": "text"
      },
      "cell_type": "markdown",
      "source": [
        "# 1 Autoencoder"
      ]
    },
    {
      "metadata": {
        "id": "gqCwfanuZEpv",
        "colab_type": "code",
        "colab": {}
      },
      "cell_type": "code",
      "source": [
        "import warnings\n",
        "warnings.filterwarnings('ignore')"
      ],
      "execution_count": 0,
      "outputs": []
    },
    {
      "metadata": {
        "id": "HshSnOHgZEp0",
        "colab_type": "code",
        "colab": {}
      },
      "cell_type": "code",
      "source": [
        "from keras.layers import Input, Dense, Conv2D,MaxPooling2D,UpSampling2D,Dropout,Flatten\n",
        "import matplotlib.pyplot as plt\n",
        "%matplotlib inline\n",
        "from keras.models import Model, Sequential\n",
        "import numpy as np\n",
        "from keras.utils import np_utils\n",
        "import tensorflow as tf\n",
        "from keras import backend as K\n",
        "from keras.datasets import fashion_mnist"
      ],
      "execution_count": 0,
      "outputs": []
    },
    {
      "metadata": {
        "id": "xUpqluvoZEp4",
        "colab_type": "code",
        "colab": {
          "base_uri": "https://localhost:8080/",
          "height": 153
        },
        "outputId": "9475c7dd-9de9-49fe-d458-8ab03290306b"
      },
      "cell_type": "code",
      "source": [
        "(x_train, y_train), (x_test, y_test) = fashion_mnist.load_data()"
      ],
      "execution_count": 5,
      "outputs": [
        {
          "output_type": "stream",
          "text": [
            "Downloading data from http://fashion-mnist.s3-website.eu-central-1.amazonaws.com/train-labels-idx1-ubyte.gz\n",
            "32768/29515 [=================================] - 0s 4us/step\n",
            "Downloading data from http://fashion-mnist.s3-website.eu-central-1.amazonaws.com/train-images-idx3-ubyte.gz\n",
            "26427392/26421880 [==============================] - 2s 0us/step\n",
            "Downloading data from http://fashion-mnist.s3-website.eu-central-1.amazonaws.com/t10k-labels-idx1-ubyte.gz\n",
            "8192/5148 [===============================================] - 0s 0us/step\n",
            "Downloading data from http://fashion-mnist.s3-website.eu-central-1.amazonaws.com/t10k-images-idx3-ubyte.gz\n",
            "4423680/4422102 [==============================] - 1s 0us/step\n"
          ],
          "name": "stdout"
        }
      ]
    },
    {
      "metadata": {
        "id": "-qqxaXeoZEp8",
        "colab_type": "code",
        "colab": {
          "base_uri": "https://localhost:8080/",
          "height": 34
        },
        "outputId": "ef919092-5d96-4b2a-e8db-2c84c0bd84ec"
      },
      "cell_type": "code",
      "source": [
        "x_train = x_train.astype('float32') / 255.\n",
        "x_test = x_test.astype('float32') / 255.\n",
        "x_train = x_train.reshape(x_train.shape[0], 28, 28,1)\n",
        "x_test = x_test.reshape(x_test.shape[0], 28, 28,1)\n",
        "print(x_train.shape)"
      ],
      "execution_count": 6,
      "outputs": [
        {
          "output_type": "stream",
          "text": [
            "(60000, 28, 28, 1)\n"
          ],
          "name": "stdout"
        }
      ]
    },
    {
      "metadata": {
        "id": "ulVBjf_EZEqD",
        "colab_type": "code",
        "colab": {},
        "outputId": "c72c55f6-32b7-483e-bf85-d4eca29768eb"
      },
      "cell_type": "code",
      "source": [
        "## A sample image is demonstrated below:\n",
        "plt.imshow(x_train[61,:,:].reshape(28,28))"
      ],
      "execution_count": 0,
      "outputs": [
        {
          "output_type": "execute_result",
          "data": {
            "text/plain": [
              "<matplotlib.image.AxesImage at 0x182da2ae80>"
            ]
          },
          "metadata": {
            "tags": []
          },
          "execution_count": 30
        },
        {
          "output_type": "display_data",
          "data": {
            "image/png": "[encoded data removed]",
            "text/plain": [
              "<matplotlib.figure.Figure at 0x111306cc0>"
            ]
          },
          "metadata": {
            "tags": []
          }
        }
      ]
    },
    {
      "metadata": {
        "id": "bBbcjkLSZEqI",
        "colab_type": "code",
        "colab": {}
      },
      "cell_type": "code",
      "source": [
        "## Set up the encoder\n",
        "\n",
        "## Set up the input placeholder\n",
        "\n",
        "input_img = Input(shape=(28, 28, 1))\n",
        "\n",
        "## Set up the encode\n",
        "x = Conv2D(32, (3, 3), activation='relu', padding='same')(input_img)\n",
        "x = MaxPooling2D((2, 2), padding='same')(x)\n",
        "x = Conv2D(16, (3, 3), activation='relu', padding='same')(x)\n",
        "x = MaxPooling2D((2, 2), padding='same')(x)\n",
        "x = Conv2D(16, (3, 3), activation='relu', padding='same')(x)\n",
        "encoded = MaxPooling2D((2, 2), padding='same')(x)\n",
        "\n",
        "## Set up the decode\n",
        "x = Conv2D(16, (3, 3), activation='relu', padding='same')(encoded)\n",
        "x = UpSampling2D((2, 2))(x)\n",
        "x = Conv2D(16, (3, 3), activation='relu', padding='same')(x)\n",
        "x = UpSampling2D((2, 2))(x)\n",
        "x = Conv2D(32, (3, 3), activation='relu')(x)\n",
        "x = UpSampling2D((2, 2))(x)\n",
        "decoded = Conv2D(1, (3, 3), activation='sigmoid', padding='same')(x)\n",
        "\n",
        "\n",
        "autoencoder = Model(input_img, decoded)\n",
        "autoencoder.compile(optimizer='adadelta', loss='binary_crossentropy')"
      ],
      "execution_count": 0,
      "outputs": []
    },
    {
      "metadata": {
        "id": "_00Q8ZQBZEqM",
        "colab_type": "code",
        "colab": {},
        "outputId": "97702be9-3bf5-4f26-ea19-d13278a825c6"
      },
      "cell_type": "code",
      "source": [
        "autoencoder.summary()"
      ],
      "execution_count": 0,
      "outputs": [
        {
          "output_type": "stream",
          "text": [
            "_________________________________________________________________\n",
            "Layer (type)                 Output Shape              Param #   \n",
            "=================================================================\n",
            "input_5 (InputLayer)         (None, 28, 28, 1)         0         \n",
            "_________________________________________________________________\n",
            "conv2d_29 (Conv2D)           (None, 28, 28, 32)        320       \n",
            "_________________________________________________________________\n",
            "max_pooling2d_13 (MaxPooling (None, 14, 14, 32)        0         \n",
            "_________________________________________________________________\n",
            "conv2d_30 (Conv2D)           (None, 14, 14, 16)        4624      \n",
            "_________________________________________________________________\n",
            "max_pooling2d_14 (MaxPooling (None, 7, 7, 16)          0         \n",
            "_________________________________________________________________\n",
            "conv2d_31 (Conv2D)           (None, 7, 7, 16)          2320      \n",
            "_________________________________________________________________\n",
            "max_pooling2d_15 (MaxPooling (None, 4, 4, 16)          0         \n",
            "_________________________________________________________________\n",
            "conv2d_32 (Conv2D)           (None, 4, 4, 16)          2320      \n",
            "_________________________________________________________________\n",
            "up_sampling2d_13 (UpSampling (None, 8, 8, 16)          0         \n",
            "_________________________________________________________________\n",
            "conv2d_33 (Conv2D)           (None, 8, 8, 16)          2320      \n",
            "_________________________________________________________________\n",
            "up_sampling2d_14 (UpSampling (None, 16, 16, 16)        0         \n",
            "_________________________________________________________________\n",
            "conv2d_34 (Conv2D)           (None, 14, 14, 32)        4640      \n",
            "_________________________________________________________________\n",
            "up_sampling2d_15 (UpSampling (None, 28, 28, 32)        0         \n",
            "_________________________________________________________________\n",
            "conv2d_35 (Conv2D)           (None, 28, 28, 1)         289       \n",
            "=================================================================\n",
            "Total params: 16,833\n",
            "Trainable params: 16,833\n",
            "Non-trainable params: 0\n",
            "_________________________________________________________________\n"
          ],
          "name": "stdout"
        }
      ]
    },
    {
      "metadata": {
        "id": "ZqX_HrQeZEqQ",
        "colab_type": "code",
        "colab": {},
        "outputId": "5cacad83-60a5-4832-bf26-3b92641069b3"
      },
      "cell_type": "code",
      "source": [
        "autoencoder.fit(x_train, x_train,\n",
        "                epochs=10,\n",
        "                batch_size=256,\n",
        "                shuffle=True,\n",
        "                validation_split=0.3)"
      ],
      "execution_count": 0,
      "outputs": [
        {
          "output_type": "stream",
          "text": [
            "Train on 42000 samples, validate on 18000 samples\n",
            "Epoch 1/10\n",
            "42000/42000 [==============================] - 62s 1ms/step - loss: 0.4113 - val_loss: 0.3576\n",
            "Epoch 2/10\n",
            "42000/42000 [==============================] - 63s 1ms/step - loss: 0.3427 - val_loss: 0.3251\n",
            "Epoch 3/10\n",
            "42000/42000 [==============================] - 62s 1ms/step - loss: 0.3269 - val_loss: 0.3266\n",
            "Epoch 4/10\n",
            "42000/42000 [==============================] - 62s 1ms/step - loss: 0.3192 - val_loss: 0.3250\n",
            "Epoch 5/10\n",
            "42000/42000 [==============================] - 62s 1ms/step - loss: 0.3136 - val_loss: 0.3098\n",
            "Epoch 6/10\n",
            "42000/42000 [==============================] - 63s 1ms/step - loss: 0.3099 - val_loss: 0.3089\n",
            "Epoch 7/10\n",
            "42000/42000 [==============================] - 62s 1ms/step - loss: 0.3073 - val_loss: 0.3053\n",
            "Epoch 8/10\n",
            "42000/42000 [==============================] - 63s 1ms/step - loss: 0.3050 - val_loss: 0.3047\n",
            "Epoch 9/10\n",
            "42000/42000 [==============================] - 62s 1ms/step - loss: 0.3029 - val_loss: 0.3004\n",
            "Epoch 10/10\n",
            "42000/42000 [==============================] - 62s 1ms/step - loss: 0.3014 - val_loss: 0.3011\n"
          ],
          "name": "stdout"
        },
        {
          "output_type": "execute_result",
          "data": {
            "text/plain": [
              "<keras.callbacks.History at 0x1846a576a0>"
            ]
          },
          "metadata": {
            "tags": []
          },
          "execution_count": 33
        }
      ]
    },
    {
      "metadata": {
        "id": "iUVW1e3sZEqV",
        "colab_type": "code",
        "colab": {},
        "outputId": "8e9a8151-69f2-427f-fb49-28f1c1804996"
      },
      "cell_type": "code",
      "source": [
        "## Visualize some examples of images and their decoded reconstructions\n",
        "plt.clf()\n",
        "decoded_imgs = autoencoder.predict(x_test)\n",
        "\n",
        "n = 10\n",
        "plt.figure(figsize=(20, 4))\n",
        "for i in range(n):\n",
        "    # display original\n",
        "    ax = plt.subplot(2, n, i+1)\n",
        "    plt.imshow(x_test[i].reshape(28, 28))\n",
        "    plt.gray()\n",
        "    ax.get_xaxis().set_visible(False)\n",
        "    ax.get_yaxis().set_visible(False)\n",
        "\n",
        "    # display reconstruction\n",
        "    ax = plt.subplot(2, n, i +1+ n)\n",
        "    plt.imshow(decoded_imgs[i].reshape(28, 28))\n",
        "    plt.gray()\n",
        "    ax.get_xaxis().set_visible(False)\n",
        "    ax.get_yaxis().set_visible(False)\n",
        "plt.show()"
      ],
      "execution_count": 0,
      "outputs": [
        {
          "output_type": "display_data",
          "data": {
            "text/plain": [
              "<matplotlib.figure.Figure at 0x182e207438>"
            ]
          },
          "metadata": {
            "tags": []
          }
        },
        {
          "output_type": "display_data",
          "data": {
            "image/png": "[encoded data removed]",
            "text/plain": [
              "<matplotlib.figure.Figure at 0x182e207b00>"
            ]
          },
          "metadata": {
            "tags": []
          }
        }
      ]
    },
    {
      "metadata": {
        "id": "FOVL3sTvZEqa",
        "colab_type": "text"
      },
      "cell_type": "markdown",
      "source": [
        "The performance of the convolutional autoencoder is fairly well based on the decoded reconstruction images. We can differente each images by telling the differences of shapes. However, we expect more details from the images of the decoded autoencoder. Considering the model training time is relatively long, it is not accessible."
      ]
    },
    {
      "metadata": {
        "id": "cGo7Cug4ZEqb",
        "colab_type": "text"
      },
      "cell_type": "markdown",
      "source": [
        "## Problem 2 Image Classification"
      ]
    },
    {
      "metadata": {
        "id": "NC4MaLCkZEqc",
        "colab_type": "text"
      },
      "cell_type": "markdown",
      "source": [
        "## 2.1 Deep CNN"
      ]
    },
    {
      "metadata": {
        "id": "pb1I2k6eZEqd",
        "colab_type": "code",
        "colab": {}
      },
      "cell_type": "code",
      "source": [
        "from keras.utils import np_utils"
      ],
      "execution_count": 0,
      "outputs": []
    },
    {
      "metadata": {
        "id": "PXZrrwwwZEqh",
        "colab_type": "code",
        "colab": {}
      },
      "cell_type": "code",
      "source": [
        "# Convert 1-dimensional class arrays to 10-dimensional class matrices\n",
        "Y_train = np_utils.to_categorical(y_train, 10)\n",
        "Y_test = np_utils.to_categorical(y_test, 10)"
      ],
      "execution_count": 0,
      "outputs": []
    },
    {
      "metadata": {
        "id": "CCCOHxbSZEql",
        "colab_type": "code",
        "colab": {},
        "outputId": "819e4848-7d7c-43ab-95b5-800b128a8648"
      },
      "cell_type": "code",
      "source": [
        "## Build the architect\n",
        "from keras.models import Sequential\n",
        "from keras.layers import Dropout, Flatten\n",
        "\n",
        "model = Sequential()\n",
        "\n",
        "## Input Convolutional layers\n",
        "model.add(Conv2D(filters = 64,kernel_size=(3, 3), \n",
        "                 activation='relu', strides=(1, 1), \n",
        "                 padding='valid',\n",
        "                 input_shape=(28,28,1)))\n",
        "#print(model.output_shape)\n",
        "model.add(Conv2D(filters = 64,kernel_size=(3, 3), \n",
        "                 activation='relu', strides=(1, 1), \n",
        "                 padding='valid'))\n",
        "\n",
        "# Build the fully connected layer\n",
        "model.add(MaxPooling2D(pool_size=(2,2)))\n",
        "model.add(Dropout(0.25))\n",
        "\n",
        "model.add(Flatten())\n",
        "model.add(Dense(64, activation='relu'))\n",
        "model.add(Dropout(0.5))\n",
        "\n",
        "model.add(Dense(10, activation='softmax'))\n",
        "print(model.summary())"
      ],
      "execution_count": 0,
      "outputs": [
        {
          "output_type": "stream",
          "text": [
            "_________________________________________________________________\n",
            "Layer (type)                 Output Shape              Param #   \n",
            "=================================================================\n",
            "conv2d_38 (Conv2D)           (None, 26, 26, 64)        640       \n",
            "_________________________________________________________________\n",
            "conv2d_39 (Conv2D)           (None, 24, 24, 64)        36928     \n",
            "_________________________________________________________________\n",
            "max_pooling2d_17 (MaxPooling (None, 12, 12, 64)        0         \n",
            "_________________________________________________________________\n",
            "dropout_3 (Dropout)          (None, 12, 12, 64)        0         \n",
            "_________________________________________________________________\n",
            "flatten_2 (Flatten)          (None, 9216)              0         \n",
            "_________________________________________________________________\n",
            "dense_3 (Dense)              (None, 64)                589888    \n",
            "_________________________________________________________________\n",
            "dropout_4 (Dropout)          (None, 64)                0         \n",
            "_________________________________________________________________\n",
            "dense_4 (Dense)              (None, 10)                650       \n",
            "=================================================================\n",
            "Total params: 628,106\n",
            "Trainable params: 628,106\n",
            "Non-trainable params: 0\n",
            "_________________________________________________________________\n",
            "None\n"
          ],
          "name": "stdout"
        }
      ]
    },
    {
      "metadata": {
        "id": "pcA1ijLOZEqq",
        "colab_type": "text"
      },
      "cell_type": "markdown",
      "source": [
        "## description of the architectural choices:"
      ]
    },
    {
      "metadata": {
        "id": "M5fhqAxvZEqv",
        "colab_type": "text"
      },
      "cell_type": "markdown",
      "source": [
        "The architechtural choice that I've made: the model has 2 convolutional layers. The first layer has 64 filters, 3 by 3 kernal size, 1 by 1 stride without padding. The activation function of the first layer is relu. The second layer also has 64 filters, 3 by 3 kernel size, and 1 by 1 strides without padding. The activation function is relu. A 2 by 2 max pooling with 0.25 dropout rate sets up. And then we continue to flatten the input. At last, one dense layer with 64 hidden nodes using relu and one dense layer with 10 hidden using softmax nodes are used in this model. The dropout rate is 0.5."
      ]
    },
    {
      "metadata": {
        "id": "th98o-TFZEqx",
        "colab_type": "code",
        "colab": {},
        "outputId": "fc2e3069-f4b6-47d0-89b7-85d6e5902774"
      },
      "cell_type": "code",
      "source": [
        "## Model training\n",
        "model.compile(loss='categorical_crossentropy',\n",
        "              optimizer='adam',\n",
        "              metrics=['accuracy'])\n",
        "model_training = model.fit(x_train, Y_train,\n",
        "          epochs=10,\n",
        "          batch_size=256,\n",
        "          validation_data=(x_test, Y_test))"
      ],
      "execution_count": 0,
      "outputs": [
        {
          "output_type": "stream",
          "text": [
            "Train on 60000 samples, validate on 10000 samples\n",
            "Epoch 1/10\n",
            "60000/60000 [==============================] - 166s 3ms/step - loss: 0.6498 - acc: 0.7711 - val_loss: 0.3908 - val_acc: 0.8543\n",
            "Epoch 2/10\n",
            "60000/60000 [==============================] - 168s 3ms/step - loss: 0.4134 - acc: 0.8558 - val_loss: 0.3147 - val_acc: 0.8872\n",
            "Epoch 3/10\n",
            "60000/60000 [==============================] - 167s 3ms/step - loss: 0.3554 - acc: 0.8728 - val_loss: 0.2996 - val_acc: 0.8915\n",
            "Epoch 4/10\n",
            "60000/60000 [==============================] - 166s 3ms/step - loss: 0.3223 - acc: 0.8857 - val_loss: 0.2721 - val_acc: 0.9025\n",
            "Epoch 5/10\n",
            "60000/60000 [==============================] - 166s 3ms/step - loss: 0.2964 - acc: 0.8941 - val_loss: 0.2593 - val_acc: 0.9053\n",
            "Epoch 6/10\n",
            "60000/60000 [==============================] - 167s 3ms/step - loss: 0.2799 - acc: 0.8979 - val_loss: 0.2549 - val_acc: 0.9074\n",
            "Epoch 7/10\n",
            "60000/60000 [==============================] - 166s 3ms/step - loss: 0.2605 - acc: 0.9056 - val_loss: 0.2410 - val_acc: 0.9142\n",
            "Epoch 8/10\n",
            "60000/60000 [==============================] - 166s 3ms/step - loss: 0.2504 - acc: 0.9083 - val_loss: 0.2359 - val_acc: 0.9157\n",
            "Epoch 9/10\n",
            "60000/60000 [==============================] - 166s 3ms/step - loss: 0.2355 - acc: 0.9129 - val_loss: 0.2341 - val_acc: 0.9146\n",
            "Epoch 10/10\n",
            "60000/60000 [==============================] - 167s 3ms/step - loss: 0.2296 - acc: 0.9154 - val_loss: 0.2381 - val_acc: 0.9150\n"
          ],
          "name": "stdout"
        }
      ]
    },
    {
      "metadata": {
        "id": "WDdoG7rPZEq1",
        "colab_type": "code",
        "colab": {}
      },
      "cell_type": "code",
      "source": [
        "y_pred = model.predict_classes(x_test)"
      ],
      "execution_count": 0,
      "outputs": []
    },
    {
      "metadata": {
        "id": "Kmkwl_6-ZEq6",
        "colab_type": "code",
        "colab": {},
        "outputId": "88bb30a2-62ff-4394-98e7-bcdfa6d7ecb5"
      },
      "cell_type": "code",
      "source": [
        "# test set accuracy\n",
        "(y_pred == y_test).sum()/len(y_test)"
      ],
      "execution_count": 0,
      "outputs": [
        {
          "output_type": "execute_result",
          "data": {
            "text/plain": [
              "0.915"
            ]
          },
          "metadata": {
            "tags": []
          },
          "execution_count": 51
        }
      ]
    },
    {
      "metadata": {
        "id": "Si04-xKJZEq-",
        "colab_type": "code",
        "colab": {},
        "outputId": "d0e71272-a3a3-4112-9899-a894048d5dd0"
      },
      "cell_type": "code",
      "source": [
        "# Use plot to observe the model's performance on trainging set and test set\n",
        "plt.plot(model_training.history[\"acc\"], label=\"Training Set\")\n",
        "plt.plot(model_training.history[\"val_acc\"], label=\"Test Set\")\n",
        "plt.legend()\n",
        "plt.title(\"Model's Performance on Trainging set and Test set\")\n",
        "plt.show()\n"
      ],
      "execution_count": 0,
      "outputs": [
        {
          "output_type": "display_data",
          "data": {
            "image/png": "[encoded data removed]",
            "text/plain": [
              "<matplotlib.figure.Figure at 0x182f41f1d0>"
            ]
          },
          "metadata": {
            "tags": []
          }
        }
      ]
    },
    {
      "metadata": {
        "id": "ENdbMrZpZErD",
        "colab_type": "text"
      },
      "cell_type": "markdown",
      "source": [
        "The accuracy of the test set is 0.915. The plot demonstrates that model performances on the test set is better than the performance on the training set. This is not always true since our epoch is only 10 and we can observe that two curve line are getting close. It is possible that the model performance on test set can be worse than the train's when the epoch increases."
      ]
    },
    {
      "metadata": {
        "id": "pM7EaHN3ZErE",
        "colab_type": "text"
      },
      "cell_type": "markdown",
      "source": [
        "## 2.2 Transfer Learning"
      ]
    },
    {
      "metadata": {
        "id": "W7MK6XCeZErG",
        "colab_type": "code",
        "colab": {}
      },
      "cell_type": "code",
      "source": [
        "from keras.applications import VGG19\n",
        "#from keras.applications import ResNet50\n",
        "from keras.models import Sequential\n"
      ],
      "execution_count": 0,
      "outputs": []
    },
    {
      "metadata": {
        "id": "4g6Z-tWsZErJ",
        "colab_type": "text"
      },
      "cell_type": "markdown",
      "source": [
        "The convolutional base has a total 20,024,384 params over 22 layers"
      ]
    },
    {
      "metadata": {
        "id": "oYS3JLTlZErK",
        "colab_type": "code",
        "colab": {}
      },
      "cell_type": "code",
      "source": [
        "## Continue to resize the data\n",
        "from keras.applications import ResNet50\n",
        "from keras.applications import VGG19\n",
        "from scipy.misc import imresize\n",
        "from keras.preprocessing.image import img_to_array, array_to_img\n",
        "x_train_re = np.c_[x_train,x_train,x_train]\n",
        "x_test_re = np.c_[x_test,x_test,x_test]\n",
        "x_train_re = np.asarray([img_to_array(array_to_img(im, scale=False).resize((48,48))) for im in x_train_re])\n",
        "x_test_re = np.asarray([img_to_array(array_to_img(im, scale=False).resize((48,48))) for im in x_test_re])"
      ],
      "execution_count": 0,
      "outputs": []
    },
    {
      "metadata": {
        "id": "coNokWv5ZErO",
        "colab_type": "code",
        "colab": {
          "base_uri": "https://localhost:8080/",
          "height": 71
        },
        "outputId": "4283553e-b5e0-4847-f8ef-778e80490464"
      },
      "cell_type": "code",
      "source": [
        "#conv_base = ResNet50(weights=\"imagenet\",include_top=False,input_shape=(48,48,3))\n",
        "conv_base = VGG19(weights=\"imagenet\",include_top=False,input_shape=(48,48,3))"
      ],
      "execution_count": 20,
      "outputs": [
        {
          "output_type": "stream",
          "text": [
            "Downloading data from https://github.com/fchollet/deep-learning-models/releases/download/v0.1/vgg19_weights_tf_dim_ordering_tf_kernels_notop.h5\n",
            "80142336/80134624 [==============================] - 3s 0us/step\n"
          ],
          "name": "stdout"
        }
      ]
    },
    {
      "metadata": {
        "id": "W8R_RJioZErQ",
        "colab_type": "code",
        "colab": {}
      },
      "cell_type": "code",
      "source": [
        "model2_2 = Sequential()\n",
        "model2_2.add(conv_base)\n",
        "model2_2.add(Flatten())\n",
        "model2_2.add(Dense(256, activation=\"relu\"))\n",
        "model2_2.add(Dropout(0.5))\n",
        "model2_2.add(Dense(10, activation=\"softmax\"))   \n",
        "conv_base.trainable = False \n",
        "\n"
      ],
      "execution_count": 0,
      "outputs": []
    },
    {
      "metadata": {
        "id": "hzexSEJAZErS",
        "colab_type": "code",
        "colab": {}
      },
      "cell_type": "code",
      "source": [
        "conv_base.trainable = False"
      ],
      "execution_count": 0,
      "outputs": []
    },
    {
      "metadata": {
        "id": "RJndxRGYZErV",
        "colab_type": "text"
      },
      "cell_type": "markdown",
      "source": [
        "## 2.2 Model description:"
      ]
    },
    {
      "metadata": {
        "id": "uFxxquTwZErW",
        "colab_type": "text"
      },
      "cell_type": "markdown",
      "source": [
        "The pre-trained networks that I use is VGG with a flattened input. A dense layer wirh 256 hidden nodes is used for the first layer and its activation function is relu. We added a dropout rate 0.5 and the output layer has 10 hidden nodes with softmax activation function. "
      ]
    },
    {
      "metadata": {
        "id": "qoWpyD0JZErW",
        "colab_type": "code",
        "colab": {
          "base_uri": "https://localhost:8080/",
          "height": 306
        },
        "outputId": "8c255bf8-3e33-4c7f-e757-d6cd17a02c4e"
      },
      "cell_type": "code",
      "source": [
        "model2_2.summary()"
      ],
      "execution_count": 23,
      "outputs": [
        {
          "output_type": "stream",
          "text": [
            "_________________________________________________________________\n",
            "Layer (type)                 Output Shape              Param #   \n",
            "=================================================================\n",
            "vgg19 (Model)                (None, 1, 1, 512)         20024384  \n",
            "_________________________________________________________________\n",
            "flatten_2 (Flatten)          (None, 512)               0         \n",
            "_________________________________________________________________\n",
            "dense_4 (Dense)              (None, 256)               131328    \n",
            "_________________________________________________________________\n",
            "dropout_3 (Dropout)          (None, 256)               0         \n",
            "_________________________________________________________________\n",
            "dense_5 (Dense)              (None, 10)                2570      \n",
            "=================================================================\n",
            "Total params: 20,158,282\n",
            "Trainable params: 133,898\n",
            "Non-trainable params: 20,024,384\n",
            "_________________________________________________________________\n"
          ],
          "name": "stdout"
        }
      ]
    },
    {
      "metadata": {
        "id": "9UMxDpKcZErZ",
        "colab_type": "code",
        "colab": {}
      },
      "cell_type": "code",
      "source": [
        "## Train the transferred model\n",
        "model2_2.compile(loss='categorical_crossentropy',\n",
        "              optimizer='adam',\n",
        "              metrics=['accuracy'])"
      ],
      "execution_count": 0,
      "outputs": []
    },
    {
      "metadata": {
        "id": "m8L974EtZErc",
        "colab_type": "code",
        "colab": {
          "base_uri": "https://localhost:8080/",
          "height": 564
        },
        "outputId": "330642d7-7b7c-46c4-ccf2-e5d9856e771a"
      },
      "cell_type": "code",
      "source": [
        "## Training...\n",
        "model_trained = model2_2.fit(x_train_re, Y_train,\n",
        "          epochs=15,\n",
        "          batch_size=256,\n",
        "        validation_data=[x_test_re,Y_test])"
      ],
      "execution_count": 25,
      "outputs": [
        {
          "output_type": "stream",
          "text": [
            "Train on 60000 samples, validate on 10000 samples\n",
            "Epoch 1/15\n",
            "60000/60000 [==============================] - 50s 833us/step - loss: 2.0855 - acc: 0.2520 - val_loss: 1.8820 - val_acc: 0.3373\n",
            "Epoch 2/15\n",
            "60000/60000 [==============================] - 46s 760us/step - loss: 1.8663 - acc: 0.3233 - val_loss: 1.7849 - val_acc: 0.3591\n",
            "Epoch 3/15\n",
            "60000/60000 [==============================] - 46s 761us/step - loss: 1.7989 - acc: 0.3443 - val_loss: 1.7395 - val_acc: 0.3709\n",
            "Epoch 4/15\n",
            "60000/60000 [==============================] - 46s 760us/step - loss: 1.7653 - acc: 0.3570 - val_loss: 1.7186 - val_acc: 0.3742\n",
            "Epoch 5/15\n",
            "60000/60000 [==============================] - 46s 760us/step - loss: 1.7404 - acc: 0.3629 - val_loss: 1.6876 - val_acc: 0.3812\n",
            "Epoch 6/15\n",
            "60000/60000 [==============================] - 46s 761us/step - loss: 1.7246 - acc: 0.3677 - val_loss: 1.6706 - val_acc: 0.3904\n",
            "Epoch 7/15\n",
            "60000/60000 [==============================] - 46s 760us/step - loss: 1.7068 - acc: 0.3752 - val_loss: 1.6549 - val_acc: 0.3907\n",
            "Epoch 8/15\n",
            "60000/60000 [==============================] - 46s 760us/step - loss: 1.6986 - acc: 0.3771 - val_loss: 1.6520 - val_acc: 0.3965\n",
            "Epoch 9/15\n",
            "60000/60000 [==============================] - 46s 760us/step - loss: 1.6854 - acc: 0.3834 - val_loss: 1.6444 - val_acc: 0.4000\n",
            "Epoch 10/15\n",
            "60000/60000 [==============================] - 46s 760us/step - loss: 1.6800 - acc: 0.3813 - val_loss: 1.6411 - val_acc: 0.4025\n",
            "Epoch 11/15\n",
            "60000/60000 [==============================] - 46s 760us/step - loss: 1.6717 - acc: 0.3878 - val_loss: 1.6336 - val_acc: 0.3934\n",
            "Epoch 12/15\n",
            "60000/60000 [==============================] - 46s 760us/step - loss: 1.6669 - acc: 0.3889 - val_loss: 1.6297 - val_acc: 0.3998\n",
            "Epoch 13/15\n",
            "60000/60000 [==============================] - 46s 760us/step - loss: 1.6625 - acc: 0.3924 - val_loss: 1.6135 - val_acc: 0.4051\n",
            "Epoch 14/15\n",
            "60000/60000 [==============================] - 46s 760us/step - loss: 1.6587 - acc: 0.3918 - val_loss: 1.6198 - val_acc: 0.4020\n",
            "Epoch 15/15\n",
            "60000/60000 [==============================] - 46s 761us/step - loss: 1.6525 - acc: 0.3955 - val_loss: 1.6139 - val_acc: 0.4023\n"
          ],
          "name": "stdout"
        }
      ]
    },
    {
      "metadata": {
        "id": "ls2XrUJWZEre",
        "colab_type": "code",
        "colab": {
          "base_uri": "https://localhost:8080/",
          "height": 280
        },
        "outputId": "98bdbadb-4e96-4c55-dacc-615746e3b649"
      },
      "cell_type": "code",
      "source": [
        "plt.plot(model_trained.history[\"acc\"], label=\"Training Set\")\n",
        "plt.plot(model_trained.history[\"val_acc\"], label=\"Test Set\")\n",
        "plt.legend()\n",
        "plt.title(\"VGG Pre-trained Model Performance on Training Set and Test Set\")\n",
        "plt.show()"
      ],
      "execution_count": 26,
      "outputs": [
        {
          "output_type": "display_data",
          "data": {
            "image/png": "[encoded data removed]",
            "text/plain": [
              "<matplotlib.figure.Figure at 0x7fa4766566a0>"
            ]
          },
          "metadata": {
            "tags": []
          }
        }
      ]
    },
    {
      "metadata": {
        "id": "O1guBFVbfYlW",
        "colab_type": "text"
      },
      "cell_type": "markdown",
      "source": [
        "The visual of the model performance of the pre-trained network follows the similar pattern of the model 2.1. In general, the performance of the training set is better than the test set. We also observe that performance of the training set is greater than 0.40 and the performance of the the test set is approaching to 0.40. "
      ]
    },
    {
      "metadata": {
        "id": "bXWzfHsjho39",
        "colab_type": "text"
      },
      "cell_type": "markdown",
      "source": [
        "## Problem 3 Text Classification "
      ]
    },
    {
      "metadata": {
        "id": "bRsjsd7_h0-F",
        "colab_type": "text"
      },
      "cell_type": "markdown",
      "source": [
        "## 3.1 RNN"
      ]
    },
    {
      "metadata": {
        "id": "ST09jSuMh3VG",
        "colab_type": "code",
        "colab": {}
      },
      "cell_type": "code",
      "source": [
        "import pandas as pd\n",
        "df_ben = pd.read_csv('https://s3.amazonaws.com/anly-590/url-classification/benign-urls.txt')\n",
        "df_mal = pd.read_csv('https://s3.amazonaws.com/anly-590/url-classification/malicious-urls.txt', header = None)"
      ],
      "execution_count": 0,
      "outputs": []
    },
    {
      "metadata": {
        "id": "G815cy7llGXq",
        "colab_type": "code",
        "colab": {
          "base_uri": "https://localhost:8080/",
          "height": 235
        },
        "outputId": "053299c2-102f-41fe-ee22-220066b08fa9"
      },
      "cell_type": "code",
      "source": [
        "## Label Urls\n",
        "df_ben.columns = ['urls']\n",
        "df_mal.columns = ['urls']\n",
        "df_ben.head(6)"
      ],
      "execution_count": 63,
      "outputs": [
        {
          "output_type": "execute_result",
          "data": {
            "text/html": [
              "<div>\n",
              "<style scoped>\n",
              "    .dataframe tbody tr th:only-of-type {\n",
              "        vertical-align: middle;\n",
              "    }\n",
              "\n",
              "    .dataframe tbody tr th {\n",
              "        vertical-align: top;\n",
              "    }\n",
              "\n",
              "    .dataframe thead th {\n",
              "        text-align: right;\n",
              "    }\n",
              "</style>\n",
              "<table border=\"1\" class=\"dataframe\">\n",
              "  <thead>\n",
              "    <tr style=\"text-align: right;\">\n",
              "      <th></th>\n",
              "      <th>urls</th>\n",
              "    </tr>\n",
              "  </thead>\n",
              "  <tbody>\n",
              "    <tr>\n",
              "      <th>0</th>\n",
              "      <td>.0.blogger.gmodules.com</td>\n",
              "    </tr>\n",
              "    <tr>\n",
              "      <th>1</th>\n",
              "      <td>.0.client-channel.google.com</td>\n",
              "    </tr>\n",
              "    <tr>\n",
              "      <th>2</th>\n",
              "      <td>.0.docs.google.com</td>\n",
              "    </tr>\n",
              "    <tr>\n",
              "      <th>3</th>\n",
              "      <td>.0.drive.google.com</td>\n",
              "    </tr>\n",
              "    <tr>\n",
              "      <th>4</th>\n",
              "      <td>.0.gvt0.cn</td>\n",
              "    </tr>\n",
              "    <tr>\n",
              "      <th>5</th>\n",
              "      <td>.0.gvt0.com</td>\n",
              "    </tr>\n",
              "  </tbody>\n",
              "</table>\n",
              "</div>"
            ],
            "text/plain": [
              "                           urls\n",
              "0       .0.blogger.gmodules.com\n",
              "1  .0.client-channel.google.com\n",
              "2            .0.docs.google.com\n",
              "3           .0.drive.google.com\n",
              "4                    .0.gvt0.cn\n",
              "5                   .0.gvt0.com"
            ]
          },
          "metadata": {
            "tags": []
          },
          "execution_count": 63
        }
      ]
    },
    {
      "metadata": {
        "id": "r9PEwSzbpT-F",
        "colab_type": "code",
        "colab": {
          "base_uri": "https://localhost:8080/",
          "height": 235
        },
        "outputId": "3fed5a3c-6e39-4887-f4ee-1304b30d6cce"
      },
      "cell_type": "code",
      "source": [
        "df_mal.head(6)"
      ],
      "execution_count": 64,
      "outputs": [
        {
          "output_type": "execute_result",
          "data": {
            "text/html": [
              "<div>\n",
              "<style scoped>\n",
              "    .dataframe tbody tr th:only-of-type {\n",
              "        vertical-align: middle;\n",
              "    }\n",
              "\n",
              "    .dataframe tbody tr th {\n",
              "        vertical-align: top;\n",
              "    }\n",
              "\n",
              "    .dataframe thead th {\n",
              "        text-align: right;\n",
              "    }\n",
              "</style>\n",
              "<table border=\"1\" class=\"dataframe\">\n",
              "  <thead>\n",
              "    <tr style=\"text-align: right;\">\n",
              "      <th></th>\n",
              "      <th>urls</th>\n",
              "    </tr>\n",
              "  </thead>\n",
              "  <tbody>\n",
              "    <tr>\n",
              "      <th>0</th>\n",
              "      <td>.1337x.pl</td>\n",
              "    </tr>\n",
              "    <tr>\n",
              "      <th>1</th>\n",
              "      <td>.1link.io</td>\n",
              "    </tr>\n",
              "    <tr>\n",
              "      <th>2</th>\n",
              "      <td>.1n.pm</td>\n",
              "    </tr>\n",
              "    <tr>\n",
              "      <th>3</th>\n",
              "      <td>.22apple.com</td>\n",
              "    </tr>\n",
              "    <tr>\n",
              "      <th>4</th>\n",
              "      <td>.22find.com</td>\n",
              "    </tr>\n",
              "    <tr>\n",
              "      <th>5</th>\n",
              "      <td>.2s5m19yk.ru</td>\n",
              "    </tr>\n",
              "  </tbody>\n",
              "</table>\n",
              "</div>"
            ],
            "text/plain": [
              "           urls\n",
              "0     .1337x.pl\n",
              "1     .1link.io\n",
              "2        .1n.pm\n",
              "3  .22apple.com\n",
              "4   .22find.com\n",
              "5  .2s5m19yk.ru"
            ]
          },
          "metadata": {
            "tags": []
          },
          "execution_count": 64
        }
      ]
    },
    {
      "metadata": {
        "id": "EMKmNp4XpZkl",
        "colab_type": "code",
        "colab": {}
      },
      "cell_type": "code",
      "source": [
        "from sklearn.model_selection import train_test_split\n",
        "from keras.preprocessing import sequence\n",
        "from keras.preprocessing.text import Tokenizer\n",
        "from keras.layers import SimpleRNN, Embedding\n",
        "df_ben['class'] = 1\n",
        "df_mal['class'] = 0\n",
        "np.random.seed(0)\n"
      ],
      "execution_count": 0,
      "outputs": []
    },
    {
      "metadata": {
        "id": "jsL_2GqPpohc",
        "colab_type": "code",
        "colab": {
          "base_uri": "https://localhost:8080/",
          "height": 34
        },
        "outputId": "5141f08f-1480-4e06-fc25-da7f814ae674"
      },
      "cell_type": "code",
      "source": [
        "df_X = df_ben.sample(frac=5*df_mal.shape[0]/df_ben.shape[0])\n",
        "df_X.shape"
      ],
      "execution_count": 74,
      "outputs": [
        {
          "output_type": "execute_result",
          "data": {
            "text/plain": [
              "(6480, 2)"
            ]
          },
          "metadata": {
            "tags": []
          },
          "execution_count": 74
        }
      ]
    },
    {
      "metadata": {
        "id": "uWRJOgvHp2xM",
        "colab_type": "code",
        "colab": {}
      },
      "cell_type": "code",
      "source": [
        "D = pd.concat([df_X, df_mal], ignore_index = True).reset_index()\n",
        "tokenizer = Tokenizer(filters=None, char_level=True)\n",
        "tokenizer.fit_on_texts(D['urls'])\n",
        "\n",
        "X_train = tokenizer.texts_to_sequences(D['urls'])\n",
        "y_train = D['class']\n",
        "\n",
        "max_features = 1000\n",
        "max_len = D['urls'].str.len().max()"
      ],
      "execution_count": 0,
      "outputs": []
    },
    {
      "metadata": {
        "id": "dLyo6kCsq_hP",
        "colab_type": "code",
        "colab": {}
      },
      "cell_type": "code",
      "source": [
        "X_train, X_test, y_train, y_test = train_test_split(X_train, y_train, test_size=0.3, random_state=0)"
      ],
      "execution_count": 0,
      "outputs": []
    },
    {
      "metadata": {
        "id": "_au_WdLUrAaY",
        "colab_type": "code",
        "colab": {}
      },
      "cell_type": "code",
      "source": [
        "X_train_max = sequence.pad_sequences(X_train, max_len)\n",
        "X_test_max = sequence.pad_sequences(X_test, max_len)"
      ],
      "execution_count": 0,
      "outputs": []
    },
    {
      "metadata": {
        "id": "rGPWfqy5rUiI",
        "colab_type": "code",
        "colab": {
          "base_uri": "https://localhost:8080/",
          "height": 306
        },
        "outputId": "c46e864b-be75-4b03-c2bc-96b99c93f3dc"
      },
      "cell_type": "code",
      "source": [
        "## Set up the network\n",
        "model3_1 = Sequential()\n",
        "model3_1.add(Embedding(max_features, 64))\n",
        "model3_1.add(SimpleRNN(32))\n",
        "model3_1.add(Dropout(0.25))\n",
        "model3_1.add(Dense(50, activation=\"relu\"))\n",
        "model3_1.add(Dense(1, activation=\"sigmoid\"))\n",
        "model3_1.summary()"
      ],
      "execution_count": 87,
      "outputs": [
        {
          "output_type": "stream",
          "text": [
            "_________________________________________________________________\n",
            "Layer (type)                 Output Shape              Param #   \n",
            "=================================================================\n",
            "embedding_2 (Embedding)      (None, None, 64)          64000     \n",
            "_________________________________________________________________\n",
            "simple_rnn_2 (SimpleRNN)     (None, 32)                3104      \n",
            "_________________________________________________________________\n",
            "dropout_5 (Dropout)          (None, 32)                0         \n",
            "_________________________________________________________________\n",
            "dense_8 (Dense)              (None, 50)                1650      \n",
            "_________________________________________________________________\n",
            "dense_9 (Dense)              (None, 1)                 51        \n",
            "=================================================================\n",
            "Total params: 68,805\n",
            "Trainable params: 68,805\n",
            "Non-trainable params: 0\n",
            "_________________________________________________________________\n"
          ],
          "name": "stdout"
        }
      ]
    },
    {
      "metadata": {
        "id": "4skc2Oyjrv4C",
        "colab_type": "code",
        "colab": {}
      },
      "cell_type": "code",
      "source": [
        "model3_1.compile(optimizer=\"rmsprop\", loss=\"binary_crossentropy\", metrics=[\"acc\"])"
      ],
      "execution_count": 0,
      "outputs": []
    },
    {
      "metadata": {
        "id": "KX9Ziix6r4Hd",
        "colab_type": "code",
        "colab": {
          "base_uri": "https://localhost:8080/",
          "height": 374
        },
        "outputId": "09ba8a76-0c0a-4121-cec1-8eb4711a4215"
      },
      "cell_type": "code",
      "source": [
        "model3_1.fit(X_train_max, y_train, epochs=10, batch_size=8)"
      ],
      "execution_count": 90,
      "outputs": [
        {
          "output_type": "stream",
          "text": [
            "Epoch 1/10\n",
            "3810/3810 [==============================] - 29s 8ms/step - loss: 0.2045 - acc: 0.9139\n",
            "Epoch 2/10\n",
            "3810/3810 [==============================] - 27s 7ms/step - loss: 0.0764 - acc: 0.9772\n",
            "Epoch 3/10\n",
            "3810/3810 [==============================] - 27s 7ms/step - loss: 0.0612 - acc: 0.9814\n",
            "Epoch 4/10\n",
            "3810/3810 [==============================] - 27s 7ms/step - loss: 0.0565 - acc: 0.9824\n",
            "Epoch 5/10\n",
            "3810/3810 [==============================] - 27s 7ms/step - loss: 0.0554 - acc: 0.9866\n",
            "Epoch 6/10\n",
            "3810/3810 [==============================] - 27s 7ms/step - loss: 0.0523 - acc: 0.9856\n",
            "Epoch 7/10\n",
            "3810/3810 [==============================] - 27s 7ms/step - loss: 0.0523 - acc: 0.9856\n",
            "Epoch 8/10\n",
            "3810/3810 [==============================] - 27s 7ms/step - loss: 0.0486 - acc: 0.9853\n",
            "Epoch 9/10\n",
            "3810/3810 [==============================] - 27s 7ms/step - loss: 0.0438 - acc: 0.9869\n",
            "Epoch 10/10\n",
            "3810/3810 [==============================] - 28s 7ms/step - loss: 0.0383 - acc: 0.9898\n"
          ],
          "name": "stdout"
        },
        {
          "output_type": "execute_result",
          "data": {
            "text/plain": [
              "<keras.callbacks.History at 0x7fa472c11780>"
            ]
          },
          "metadata": {
            "tags": []
          },
          "execution_count": 90
        }
      ]
    },
    {
      "metadata": {
        "id": "bPenC6Qetorx",
        "colab_type": "code",
        "colab": {
          "base_uri": "https://localhost:8080/",
          "height": 34
        },
        "outputId": "ffe8f6ef-3e33-4aa7-de65-f0e4cfd091f0"
      },
      "cell_type": "code",
      "source": [
        "result3_1=model3_1.evaluate(X_test_max , y_test, verbose=1)"
      ],
      "execution_count": 91,
      "outputs": [
        {
          "output_type": "stream",
          "text": [
            "1633/1633 [==============================] - 1s 875us/step\n"
          ],
          "name": "stdout"
        }
      ]
    },
    {
      "metadata": {
        "id": "CfXuW5COt1Gc",
        "colab_type": "code",
        "colab": {
          "base_uri": "https://localhost:8080/",
          "height": 85
        },
        "outputId": "aee7230c-416a-40c7-8d3e-b68333e158f2"
      },
      "cell_type": "code",
      "source": [
        "print(\"The test loss of the 3.1 model is: \")\n",
        "print(result3_1[0])\n",
        "print('The test accuracy of the 3.1 model is: ')\n",
        "print(result3_1[1])"
      ],
      "execution_count": 93,
      "outputs": [
        {
          "output_type": "stream",
          "text": [
            "The test loss of the 3.1 model is: \n",
            "0.11071576846225119\n",
            "The test accuracy of the 3.1 model is: \n",
            "0.9669320269442744\n"
          ],
          "name": "stdout"
        }
      ]
    },
    {
      "metadata": {
        "id": "e6PQa-cZuSsx",
        "colab_type": "text"
      },
      "cell_type": "markdown",
      "source": [
        "## 3.2 CNN"
      ]
    },
    {
      "metadata": {
        "id": "4SQfvYFTuWLy",
        "colab_type": "code",
        "colab": {
          "base_uri": "https://localhost:8080/",
          "height": 272
        },
        "outputId": "c05867e0-e3e7-4ec4-b78e-5c27cecafde6"
      },
      "cell_type": "code",
      "source": [
        "from keras.layers import Conv1D\n",
        "model3_2=Sequential()\n",
        "model3_2.add(Embedding(max_features, 64, input_length = max_len))\n",
        "model3_2.add(Conv1D(32, 3, activation='relu'))\n",
        "model3_2.add(Flatten())\n",
        "model3_2.add(Dense(1, activation='sigmoid'))\n",
        "model3_2.compile(optimizer=\"rmsprop\", loss=\"binary_crossentropy\", metrics=[\"acc\"])\n",
        "model3_2.summary()"
      ],
      "execution_count": 95,
      "outputs": [
        {
          "output_type": "stream",
          "text": [
            "_________________________________________________________________\n",
            "Layer (type)                 Output Shape              Param #   \n",
            "=================================================================\n",
            "embedding_3 (Embedding)      (None, 85, 64)            64000     \n",
            "_________________________________________________________________\n",
            "conv1d_1 (Conv1D)            (None, 83, 32)            6176      \n",
            "_________________________________________________________________\n",
            "flatten_3 (Flatten)          (None, 2656)              0         \n",
            "_________________________________________________________________\n",
            "dense_10 (Dense)             (None, 1)                 2657      \n",
            "=================================================================\n",
            "Total params: 72,833\n",
            "Trainable params: 72,833\n",
            "Non-trainable params: 0\n",
            "_________________________________________________________________\n"
          ],
          "name": "stdout"
        }
      ]
    },
    {
      "metadata": {
        "id": "Vp1DSVJquxjv",
        "colab_type": "code",
        "colab": {
          "base_uri": "https://localhost:8080/",
          "height": 374
        },
        "outputId": "a55b08f7-062c-4d1d-94e8-c6cbf4c31343"
      },
      "cell_type": "code",
      "source": [
        "model3_2.fit(X_train_max, y_train, epochs=10, batch_size=8)"
      ],
      "execution_count": 96,
      "outputs": [
        {
          "output_type": "stream",
          "text": [
            "Epoch 1/10\n",
            "3810/3810 [==============================] - 5s 1ms/step - loss: 0.2314 - acc: 0.8927\n",
            "Epoch 2/10\n",
            "3810/3810 [==============================] - 3s 813us/step - loss: 0.0819 - acc: 0.9709\n",
            "Epoch 3/10\n",
            "3810/3810 [==============================] - 3s 807us/step - loss: 0.0610 - acc: 0.9816\n",
            "Epoch 4/10\n",
            "3810/3810 [==============================] - 3s 817us/step - loss: 0.0553 - acc: 0.9835\n",
            "Epoch 5/10\n",
            "3810/3810 [==============================] - 3s 831us/step - loss: 0.0493 - acc: 0.9853\n",
            "Epoch 6/10\n",
            "3810/3810 [==============================] - 3s 817us/step - loss: 0.0475 - acc: 0.9850\n",
            "Epoch 7/10\n",
            "3810/3810 [==============================] - 3s 808us/step - loss: 0.0430 - acc: 0.9864\n",
            "Epoch 8/10\n",
            "3810/3810 [==============================] - 3s 820us/step - loss: 0.0409 - acc: 0.9882\n",
            "Epoch 9/10\n",
            "3810/3810 [==============================] - 3s 837us/step - loss: 0.0383 - acc: 0.9874\n",
            "Epoch 10/10\n",
            "3810/3810 [==============================] - 3s 826us/step - loss: 0.0350 - acc: 0.9866\n"
          ],
          "name": "stdout"
        },
        {
          "output_type": "execute_result",
          "data": {
            "text/plain": [
              "<keras.callbacks.History at 0x7fa470525d30>"
            ]
          },
          "metadata": {
            "tags": []
          },
          "execution_count": 96
        }
      ]
    },
    {
      "metadata": {
        "id": "9jNb20BQvI9l",
        "colab_type": "code",
        "colab": {
          "base_uri": "https://localhost:8080/",
          "height": 34
        },
        "outputId": "8d143b5c-c835-4676-83df-dac442f77ec2"
      },
      "cell_type": "code",
      "source": [
        "result3_2=model3_2.evaluate(X_test_max , y_test, verbose=1)"
      ],
      "execution_count": 97,
      "outputs": [
        {
          "output_type": "stream",
          "text": [
            "1633/1633 [==============================] - 1s 572us/step\n"
          ],
          "name": "stdout"
        }
      ]
    },
    {
      "metadata": {
        "id": "QUnfe_AovPEA",
        "colab_type": "code",
        "colab": {
          "base_uri": "https://localhost:8080/",
          "height": 85
        },
        "outputId": "c81d2236-bf11-4f1c-fe06-feadf91a9d08"
      },
      "cell_type": "code",
      "source": [
        "print(\"The test loss of the 3.2 model is: \")\n",
        "print(result3_2[0])\n",
        "print('The test accuracy of the 3.2 model is: ')\n",
        "print(result3_2[1])"
      ],
      "execution_count": 98,
      "outputs": [
        {
          "output_type": "stream",
          "text": [
            "The test loss of the 3.2 model is: \n",
            "0.05730639954724347\n",
            "The test accuracy of the 3.2 model is: \n",
            "0.9865278628291488\n"
          ],
          "name": "stdout"
        }
      ]
    },
    {
      "metadata": {
        "id": "kLvoDC3DvT9K",
        "colab_type": "text"
      },
      "cell_type": "markdown",
      "source": [
        "## 3.3 "
      ]
    },
    {
      "metadata": {
        "id": "Q_7L_D7TvjjG",
        "colab_type": "code",
        "colab": {}
      },
      "cell_type": "code",
      "source": [
        "from sklearn.metrics import roc_curve\n",
        "y_pred_31 = model3_1.predict(X_test_max).ravel()\n",
        "fpr_31, tpr_31, thresholds_31 = roc_curve(y_test, y_pred_31)\n",
        "y_pred_32 = model3_2.predict(X_test_max).ravel()\n",
        "fpr_32, tpr_32, thresholds_32 = roc_curve(y_test, y_pred_32)"
      ],
      "execution_count": 0,
      "outputs": []
    },
    {
      "metadata": {
        "id": "8AHad66hx24p",
        "colab_type": "code",
        "colab": {}
      },
      "cell_type": "code",
      "source": [
        "## Set up the ROC curve"
      ],
      "execution_count": 0,
      "outputs": []
    },
    {
      "metadata": {
        "id": "H2cqLaBXx64b",
        "colab_type": "code",
        "colab": {
          "base_uri": "https://localhost:8080/",
          "height": 294
        },
        "outputId": "b0f7bb42-4dbf-4148-a37c-08da345f6cf3"
      },
      "cell_type": "code",
      "source": [
        "from sklearn.metrics import auc\n",
        "auc_31 = auc(fpr_31, tpr_31)\n",
        "auc_32 = auc(fpr_32, tpr_32)\n",
        "\n",
        "plt.figure()\n",
        "plt.plot([0, 1], [0, 1], 'k--')\n",
        "plt.plot(fpr_31, tpr_31, label='RNN (area = {:.4f})'.format(auc_31))\n",
        "plt.plot(fpr_32, tpr_32, label='CNN (area = {:.4f})'.format(auc_32))\n",
        "plt.xlabel('False positive')\n",
        "plt.ylabel('True positive')\n",
        "plt.title('ROC Curve')\n",
        "plt.legend(loc='best')\n",
        "plt.show()\n"
      ],
      "execution_count": 107,
      "outputs": [
        {
          "output_type": "display_data",
          "data": {
            "image/png": "[encoded data removed]",
            "text/plain": [
              "<matplotlib.figure.Figure at 0x7fa470331048>"
            ]
          },
          "metadata": {
            "tags": []
          }
        }
      ]
    },
    {
      "metadata": {
        "id": "shSLVFjAzDVW",
        "colab_type": "text"
      },
      "cell_type": "markdown",
      "source": [
        "The RNN and CNN have similar performance based on the ROC Curve, the RNN performs better than the CNN"
      ]
    }
  ]
}